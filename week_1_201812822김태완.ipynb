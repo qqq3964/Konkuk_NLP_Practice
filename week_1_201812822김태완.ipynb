{
  "nbformat": 4,
  "nbformat_minor": 0,
  "metadata": {
    "colab": {
      "provenance": [],
      "mount_file_id": "1Iie5zE_2KtlWynEI2oas_jje1WSG4BCg",
      "authorship_tag": "ABX9TyMJVJRnRNyNWJDsvzrp4oLh",
      "include_colab_link": true
    },
    "kernelspec": {
      "name": "python3",
      "display_name": "Python 3"
    },
    "language_info": {
      "name": "python"
    }
  },
  "cells": [
    {
      "cell_type": "markdown",
      "metadata": {
        "id": "view-in-github",
        "colab_type": "text"
      },
      "source": [
        "<a href=\"https://colab.research.google.com/github/qqq3964/Konkuk_NLP_Practice/blob/main/week_1_201812822%EA%B9%80%ED%83%9C%EC%99%84.ipynb\" target=\"_parent\"><img src=\"https://colab.research.google.com/assets/colab-badge.svg\" alt=\"Open In Colab\"/></a>"
      ]
    },
    {
      "cell_type": "markdown",
      "source": [
        "# 1 Week 수업"
      ],
      "metadata": {
        "id": "sqDZYsS0jCb3"
      }
    },
    {
      "cell_type": "markdown",
      "source": [
        "### 확인 문제\n",
        "- 형태소 분석 \"나는 과자를 먹었다.\"</br>\n",
        "Contents Word(내용어) Functional word(기능어)</br>\n",
        "여기서 과자를 먹었다 에서 조사는 '는','를' 조사 이런식으로 기능(functional words)을 찾는다.\n",
        "- 이를 통해 형태소 분석을 하고 구문 분석으로 넘어간다.\n",
        "- 다음으로 의미 분석을 한다. \"나는 자동차를 먹엇다.\" 에서 '먹었다'-> 'predicate'라고 불린다.</br> 여기서 자동차는 먹을 수 없기에 이렇게 된다.\n",
        "- 담화 분석 '나는 자동차를 먹었다. 그건 너무 맛있어' 여기선 담화를 분석가능하다</br>\n",
        "- raw corpus 원시 말뭉치 문장들을 표현한다.\n",
        "- Rank Frequency Distribution 에서 그래프는 -log함수로 들어간다.</br> \n",
        "그래서 y=x를 기준으로 뒤에는 중요한 내용어를 찾을 수 있고 너무 x축에 가장 뒤쪽으로 가면 고유 단어거나 오타가 많다. </br>\n",
        "그래서 우리는 중요한 단어를 만들 수 있는 딕셔너리를 만들 수 있다."
      ],
      "metadata": {
        "id": "bdPeVp4ajI02"
      }
    },
    {
      "cell_type": "markdown",
      "source": [
        "### Zipf's Law\n",
        "if the words, w, in a collection are ranked, r ,by their frequency,f , they rougly r*f = c </br>\n",
        "이를 통해 만들 수 있는것은 다음과 같다.\n",
        "- stopwords list : 불용어 리스트 Ignore the most frequent words\n",
        "- Significant words : 중요한 단어 추출 가능\n",
        "- **term weigthing** : weight마다 다른 단어에 가중치를 준다.\n"
      ],
      "metadata": {
        "id": "MpZH77UpnQaX"
      }
    },
    {
      "cell_type": "code",
      "execution_count": null,
      "metadata": {
        "colab": {
          "base_uri": "https://localhost:8080/"
        },
        "id": "wLZw21Rji0BH",
        "outputId": "60043399-b503-4e8e-a3ae-19fed123bca2"
      },
      "outputs": [
        {
          "output_type": "stream",
          "name": "stdout",
          "text": [
            "/content/drive/MyDrive/건국대NLP\n"
          ]
        }
      ],
      "source": [
        "%cd /content/drive/MyDrive/건국대NLP"
      ]
    },
    {
      "cell_type": "code",
      "source": [
        "import pandas as pd\n",
        "\n",
        "f = open('./data/train_data_after_10000_sent.txt','r',encoding='cp949')\n",
        "words_to_corphus = {}\n",
        "\n",
        "def word_substract(sentence):\n",
        "  temp_words = sentence.split('+')\n",
        "  for word in temp_words:\n",
        "    try:\n",
        "      words_to_corphus[word] += 1\n",
        "    except:\n",
        "      words_to_corphus[word] = 0\n",
        "\n",
        "for line in f:\n",
        "  for idx,char in enumerate(line):\n",
        "    if char == '\\t':\n",
        "      word_substract(line[idx+1:].replace('\\n',\"\"))\n",
        "\n",
        "words_to_corphus = sorted(words_to_corphus.items(), key = lambda x:x[1], reverse=True)"
      ],
      "metadata": {
        "id": "AbxM4bN1i5IY"
      },
      "execution_count": null,
      "outputs": []
    },
    {
      "cell_type": "code",
      "source": [
        "for idx,word in enumerate(words_to_corphus):\n",
        "  print(word[0],word[1],word[1]*(idx+1))\n",
        "  if idx == 99 :\n",
        "    break"
      ],
      "metadata": {
        "colab": {
          "base_uri": "https://localhost:8080/"
        },
        "id": "cPr_uuWNpDhG",
        "outputId": "a6006c4f-c302-4bf4-a2f1-c8c640657bdc"
      },
      "execution_count": null,
      "outputs": [
        {
          "output_type": "stream",
          "name": "stdout",
          "text": [
            "하/XSV 3912 3912\n",
            "의/JKG 3462 6924\n",
            "을/JKO 3151 9453\n",
            "./SF 2924 11696\n",
            "에/JKB 2839 14195\n",
            "ㄴ/ETM 2620 15720\n",
            "이/VCP 2528 17696\n",
            ",/SP 2449 19592\n",
            "이/JKS 2078 18702\n",
            "를/JKO 1937 19370\n",
            "는/JX 1748 19228\n",
            "고/EC 1629 19548\n",
            "다/EF 1549 20137\n",
            "은/JX 1463 20482\n",
            "는/ETM 1370 20550\n",
            "들/XSN 1369 21904\n",
            "도/JX 1326 22542\n",
            "어/EC 1303 23454\n",
            "가/JKS 1298 24662\n",
            "하/XSA 1266 25320\n",
            "에서/JKB 1198 25158\n",
            "었/EP 1060 23320\n",
            "았/EP 1033 23759\n",
            "으로/JKB 1024 24576\n",
            "로/JKB 1006 25150\n",
            "되/XSV 968 25168\n",
            "아/EC 967 26109\n",
            "과/JC 940 26320\n",
            "ㄹ/ETM 887 25723\n",
            "기/ETN 841 25230\n",
            "(/SS 720 22320\n",
            ")/SS 720 23040\n",
            "적/XSN 688 22704\n",
            "와/JC 598 20332\n",
            "게/EC 552 19320\n",
            "ㄴ다/EF 506 18216\n",
            "지/EC 486 17982\n",
            "./SP 429 16302\n",
            "만/JX 386 15054\n",
            "년/NNB 364 14560\n",
            "던/ETM 351 14391\n",
            "까지/JX 330 13860\n",
            "1/SN 314 13502\n",
            "지/VX 298 13112\n",
            "씨/NNB 297 13365\n",
            "며/EC 295 13570\n",
            "원/NNB 286 13442\n",
            "·/SP 284 13632\n",
            "면/EC 280 13720\n",
            "에게/JKB 276 13800\n",
            "2/SN 274 13974\n",
            "3/SN 261 13572\n",
            "과/JKB 255 13515\n",
            "%/SW 241 13014\n",
            "만/NR 235 12925\n",
            "화/XSN 233 13048\n",
            "[/SS 231 13167\n",
            "]/SS 231 13398\n",
            "일/NNB 229 13511\n",
            "다/EC 228 13680\n",
            "ㅁ/ETN 228 13908\n",
            "5/SN 227 14074\n",
            "주/VX 220 13860\n",
            "∼/SO 217 13888\n",
            "다는/ETM 212 13780\n",
            "지만/EC 211 13926\n",
            "라는/ETM 208 13936\n",
            "은/ETM 206 14008\n",
            "면서/EC 204 14076\n",
            "아야/EC 192 13440\n",
            "성/XSN 190 13490\n",
            "4/SN 187 13464\n",
            "이나/JC 183 13359\n",
            "시키/XSV 180 13320\n",
            "부터/JX 178 13350\n",
            "와/JKB 177 13452\n",
            "하/VV 175 13475\n",
            "10/SN 173 13494\n",
            "어야/EC 170 13430\n",
            "이/JKC 169 13520\n",
            "여/XSN 168 13608\n",
            "월/NNB 166 13612\n",
            "보다/JKB 166 13778\n",
            "명/NNB 162 13608\n",
            "//SP 158 13430\n",
            "자/NNG 157 13502\n",
            "다고/EC 156 13572\n",
            "을/ETM 151 13288\n",
            "6/SN 146 12994\n",
            "있/VV 141 12690\n",
            "하/VX 140 12740\n",
            "ㄴ/JX 139 12788\n",
            "오/VX 135 12555\n",
            "라고/EC 132 12408\n",
            "것/NNB 131 12445\n",
            "가/JKC 129 12384\n",
            "보/VX 128 12416\n",
            "나/JC 127 12446\n",
            "7/SN 126 12474\n",
            "아서/EC 121 12100\n"
          ]
        }
      ]
    },
    {
      "cell_type": "code",
      "source": [],
      "metadata": {
        "id": "u91aW_Dnu_BG"
      },
      "execution_count": null,
      "outputs": []
    }
  ]
}