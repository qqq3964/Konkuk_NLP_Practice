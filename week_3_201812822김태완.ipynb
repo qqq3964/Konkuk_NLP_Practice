{
  "nbformat": 4,
  "nbformat_minor": 0,
  "metadata": {
    "colab": {
      "provenance": [],
      "include_colab_link": true
    },
    "kernelspec": {
      "name": "python3",
      "display_name": "Python 3"
    },
    "accelerator": "GPU",
    "gpuClass": "standard"
  },
  "cells": [
    {
      "cell_type": "markdown",
      "metadata": {
        "id": "view-in-github",
        "colab_type": "text"
      },
      "source": [
        "<a href=\"https://colab.research.google.com/github/qqq3964/Konkuk_NLP_Practice/blob/main/week_3_201812822%EA%B9%80%ED%83%9C%EC%99%84.ipynb\" target=\"_parent\"><img src=\"https://colab.research.google.com/assets/colab-badge.svg\" alt=\"Open In Colab\"/></a>"
      ]
    },
    {
      "cell_type": "markdown",
      "metadata": {
        "id": "F24pbMKw8uT9"
      },
      "source": [
        "<h1>개인 구글 드라이브와 colab 연동</h1>"
      ]
    },
    {
      "cell_type": "code",
      "source": [
        "from google.colab import drive\n",
        "drive.mount('/content/drive')"
      ],
      "metadata": {
        "colab": {
          "base_uri": "https://localhost:8080/"
        },
        "id": "zai0Fh-g6Vf0",
        "outputId": "be853644-876d-4aa6-f504-106c44a4c672"
      },
      "execution_count": null,
      "outputs": [
        {
          "output_type": "stream",
          "name": "stdout",
          "text": [
            "Mounted at /content/drive\n"
          ]
        }
      ]
    },
    {
      "cell_type": "code",
      "metadata": {
        "colab": {
          "base_uri": "https://localhost:8080/"
        },
        "id": "r4B-rbK8b3TW",
        "outputId": "b8f3f199-630a-4398-83f4-1264be00fc0e"
      },
      "source": [
        "!pip install transformers\n",
        "!pip install sentencepiece\n",
        "!pip install konlpy\n",
        "\n",
        "root_dir = \"/content/drive/MyDrive/건국대NLP/4-2. Pretrained LM1\"\n",
        "\n",
        "import sys\n",
        "sys.path.append(root_dir)"
      ],
      "execution_count": null,
      "outputs": [
        {
          "output_type": "stream",
          "name": "stdout",
          "text": [
            "Looking in indexes: https://pypi.org/simple, https://us-python.pkg.dev/colab-wheels/public/simple/\n",
            "Collecting transformers\n",
            "  Downloading transformers-4.27.3-py3-none-any.whl (6.8 MB)\n",
            "\u001b[2K     \u001b[90m━━━━━━━━━━━━━━━━━━━━━━━━━━━━━━━━━━━━━━━━\u001b[0m \u001b[32m6.8/6.8 MB\u001b[0m \u001b[31m45.5 MB/s\u001b[0m eta \u001b[36m0:00:00\u001b[0m\n",
            "\u001b[?25hRequirement already satisfied: tqdm>=4.27 in /usr/local/lib/python3.9/dist-packages (from transformers) (4.65.0)\n",
            "Requirement already satisfied: requests in /usr/local/lib/python3.9/dist-packages (from transformers) (2.27.1)\n",
            "Requirement already satisfied: pyyaml>=5.1 in /usr/local/lib/python3.9/dist-packages (from transformers) (6.0)\n",
            "Requirement already satisfied: filelock in /usr/local/lib/python3.9/dist-packages (from transformers) (3.10.2)\n",
            "Collecting tokenizers!=0.11.3,<0.14,>=0.11.1\n",
            "  Downloading tokenizers-0.13.2-cp39-cp39-manylinux_2_17_x86_64.manylinux2014_x86_64.whl (7.6 MB)\n",
            "\u001b[2K     \u001b[90m━━━━━━━━━━━━━━━━━━━━━━━━━━━━━━━━━━━━━━━━\u001b[0m \u001b[32m7.6/7.6 MB\u001b[0m \u001b[31m106.4 MB/s\u001b[0m eta \u001b[36m0:00:00\u001b[0m\n",
            "\u001b[?25hRequirement already satisfied: numpy>=1.17 in /usr/local/lib/python3.9/dist-packages (from transformers) (1.22.4)\n",
            "Collecting huggingface-hub<1.0,>=0.11.0\n",
            "  Downloading huggingface_hub-0.13.3-py3-none-any.whl (199 kB)\n",
            "\u001b[2K     \u001b[90m━━━━━━━━━━━━━━━━━━━━━━━━━━━━━━━━━━━━━━\u001b[0m \u001b[32m199.8/199.8 KB\u001b[0m \u001b[31m30.4 MB/s\u001b[0m eta \u001b[36m0:00:00\u001b[0m\n",
            "\u001b[?25hRequirement already satisfied: regex!=2019.12.17 in /usr/local/lib/python3.9/dist-packages (from transformers) (2022.10.31)\n",
            "Requirement already satisfied: packaging>=20.0 in /usr/local/lib/python3.9/dist-packages (from transformers) (23.0)\n",
            "Requirement already satisfied: typing-extensions>=3.7.4.3 in /usr/local/lib/python3.9/dist-packages (from huggingface-hub<1.0,>=0.11.0->transformers) (4.5.0)\n",
            "Requirement already satisfied: charset-normalizer~=2.0.0 in /usr/local/lib/python3.9/dist-packages (from requests->transformers) (2.0.12)\n",
            "Requirement already satisfied: urllib3<1.27,>=1.21.1 in /usr/local/lib/python3.9/dist-packages (from requests->transformers) (1.26.15)\n",
            "Requirement already satisfied: certifi>=2017.4.17 in /usr/local/lib/python3.9/dist-packages (from requests->transformers) (2022.12.7)\n",
            "Requirement already satisfied: idna<4,>=2.5 in /usr/local/lib/python3.9/dist-packages (from requests->transformers) (3.4)\n",
            "Installing collected packages: tokenizers, huggingface-hub, transformers\n",
            "Successfully installed huggingface-hub-0.13.3 tokenizers-0.13.2 transformers-4.27.3\n",
            "Looking in indexes: https://pypi.org/simple, https://us-python.pkg.dev/colab-wheels/public/simple/\n",
            "Collecting sentencepiece\n",
            "  Downloading sentencepiece-0.1.97-cp39-cp39-manylinux_2_17_x86_64.manylinux2014_x86_64.whl (1.3 MB)\n",
            "\u001b[2K     \u001b[90m━━━━━━━━━━━━━━━━━━━━━━━━━━━━━━━━━━━━━━━━\u001b[0m \u001b[32m1.3/1.3 MB\u001b[0m \u001b[31m33.9 MB/s\u001b[0m eta \u001b[36m0:00:00\u001b[0m\n",
            "\u001b[?25hInstalling collected packages: sentencepiece\n",
            "Successfully installed sentencepiece-0.1.97\n",
            "Looking in indexes: https://pypi.org/simple, https://us-python.pkg.dev/colab-wheels/public/simple/\n",
            "Collecting konlpy\n",
            "  Downloading konlpy-0.6.0-py2.py3-none-any.whl (19.4 MB)\n",
            "\u001b[2K     \u001b[90m━━━━━━━━━━━━━━━━━━━━━━━━━━━━━━━━━━━━━━━━\u001b[0m \u001b[32m19.4/19.4 MB\u001b[0m \u001b[31m74.0 MB/s\u001b[0m eta \u001b[36m0:00:00\u001b[0m\n",
            "\u001b[?25hRequirement already satisfied: numpy>=1.6 in /usr/local/lib/python3.9/dist-packages (from konlpy) (1.22.4)\n",
            "Requirement already satisfied: lxml>=4.1.0 in /usr/local/lib/python3.9/dist-packages (from konlpy) (4.9.2)\n",
            "Collecting JPype1>=0.7.0\n",
            "  Downloading JPype1-1.4.1-cp39-cp39-manylinux_2_12_x86_64.manylinux2010_x86_64.whl (465 kB)\n",
            "\u001b[2K     \u001b[90m━━━━━━━━━━━━━━━━━━━━━━━━━━━━━━━━━━━━━━\u001b[0m \u001b[32m465.3/465.3 KB\u001b[0m \u001b[31m44.6 MB/s\u001b[0m eta \u001b[36m0:00:00\u001b[0m\n",
            "\u001b[?25hRequirement already satisfied: packaging in /usr/local/lib/python3.9/dist-packages (from JPype1>=0.7.0->konlpy) (23.0)\n",
            "Installing collected packages: JPype1, konlpy\n",
            "Successfully installed JPype1-1.4.1 konlpy-0.6.0\n"
          ]
        }
      ]
    },
    {
      "cell_type": "code",
      "metadata": {
        "id": "sdbZmdUt-d8I",
        "colab": {
          "base_uri": "https://localhost:8080/",
          "height": 414
        },
        "outputId": "6de09fd2-e367-431c-ede6-829d90207244"
      },
      "source": [
        "import os\n",
        "from IPython.display import Image\n",
        "Image(os.path.join(root_dir, \"BERT.png\"))"
      ],
      "execution_count": null,
      "outputs": [
        {
          "output_type": "execute_result",
          "data": {
            "image/png": "[encoded data removed]",
            "text/plain": [
              "<IPython.core.display.Image object>"
            ]
          },
          "metadata": {},
          "execution_count": 3
        }
      ]
    },
    {
      "cell_type": "markdown",
      "metadata": {
        "id": "YfWZLECjoJkn"
      },
      "source": [
        "<h1>BERT 모델을 이용한 감성분류</h1>"
      ]
    },
    {
      "cell_type": "code",
      "metadata": {
        "id": "o5861idd25QB"
      },
      "source": [
        "import torch.nn as nn\n",
        "from transformers import BertPreTrainedModel, BertModel\n",
        "\n",
        "\n",
        "class SentimentClassifier(BertPreTrainedModel):\n",
        "\n",
        "    def __init__(self, config):\n",
        "        super(SentimentClassifier, self).__init__(config)\n",
        "\n",
        "        # BERT 모델\n",
        "        self.bert = BertModel(config)\n",
        "\n",
        "        # 히든 사이즈\n",
        "        self.hidden_size = config.hidden_size\n",
        "\n",
        "        # 분류할 라벨의 개수\n",
        "        self.num_labels = config.num_labels\n",
        "\n",
        "        self.linear = nn.Linear(in_features=self.hidden_size, out_features=self.num_labels)\n",
        "\n",
        "    def forward(self, input_ids):\n",
        "        outputs = self.bert(input_ids=input_ids)\n",
        "        # (batch_size, max_length, hidden_size)\n",
        "        bert_output = outputs[0]\n",
        "\n",
        "        # (batch_size, hidden_size)\n",
        "        cls_vector = bert_output[:, 0, :] # bach_size, cls, hiddensize\n",
        "\n",
        "        # class_output : (batch_size, num_labels)\n",
        "        cls_output = self.linear(cls_vector)\n",
        "\n",
        "        return cls_output"
      ],
      "execution_count": null,
      "outputs": []
    },
    {
      "cell_type": "markdown",
      "metadata": {
        "id": "caSL4RyA1OOm"
      },
      "source": [
        "<h1>데이터 읽고 전처리 하기</h1>\n",
        "\n",
        "<pre>\n",
        "<b>1. read_data(file_path)</b>\n",
        "  \"train_datas_wordpiece.txt\", \"test_datas_wordpiece.txt\" 파일을 읽기 위한 함수\n",
        "  \n",
        "  데이터 예시)\n",
        "    ▁아 ▁더 빙 . . ▁진짜 ▁짜 증 나 네요 ▁목소리 \\t negative\n",
        "  \n",
        "  read_file(file_path)\n",
        "  args\n",
        "    file_path : 읽고자 하는 데이터의 경로\n",
        "  return\n",
        "    datas : 영화 리뷰, 정답 라벨\n",
        "    \n",
        "    출력 예시)\n",
        "      datas = [\n",
        "        (['▁아', '▁더', '빙', '.', '.', '▁진짜', '▁짜', '증', '나', '네요', '▁목소리'], negative)\n",
        "\n",
        "        (...),\n",
        "        \n",
        "        ]\n",
        "      \n",
        "<b>2. read_vocab_data(vocab_data_path)</b>\n",
        "  \"label_vocab.txt\" 파일을 읽고 라벨을 indexing하기 위한 딕셔너리를 생성\n",
        "   \n",
        "  read_vocab_data(vocab_data_path)\n",
        "  args\n",
        "    vocab_data_path : 어휘 파일 경로\n",
        "  return  \n",
        "    term2idx : 라벨을 대응하는 index로 치환하기 위한 딕셔너리\n",
        "    idx2term : index를 대응하는 라벨로 치환하기 위한 딕셔너리\n",
        "\n",
        "<b>3. convert_data2feature(datas, max_length, tokenizer, label2idx)</b>\n",
        "  입력 데이터를 고정된 길이로 변환 후 indexing\n",
        "  Tensor로 변환\n",
        "   \n",
        "  convert_data2feature(datas, max_length, tokenizer, label2idx)\n",
        "  args\n",
        "    datas : 영화 리뷰 데이터와 대응하는 정답 라벨을 갖고 있는 리스트\n",
        "    max_length : 입력의 최대 길이\n",
        "    tokenizer : electra tokenizer 객체\n",
        "    label2idx : 라벨을 대응하는 index로 치환하기 위한 딕셔너리\n",
        "  return\n",
        "    input_ids_features : 입력 문장에 대한 index sequence\n",
        "    label_id_features : 정답을 갖고 있는 리스트\n",
        "    \n",
        "  전처리 예시)\n",
        "    tokenizing된 리뷰 데이터['▁아', '▁더', '빙', '.', '.', '▁진짜', '▁짜', '증', '나', '네요', '▁목소리', ...]\n",
        "    input_ids : [2, 3360, 28709, 18, 18, 12704, 29334, ... ]\n",
        "    label_id : [1]\n",
        " </pre>\n"
      ]
    },
    {
      "cell_type": "code",
      "metadata": {
        "id": "iOGS8rse1ZZZ"
      },
      "source": [
        "import torch\n",
        "from konlpy.tag import Okt\n",
        "from konlpy.tag import Kkma\n",
        "\n",
        "def read_data(file_path,kom):\n",
        "    with open(file_path,'r',encoding='utf8') as Infile:\n",
        "        # line 기준으로 나누어짐\n",
        "        lines = Infile.readlines()\n",
        "\n",
        "    datas = []\n",
        "    for line in lines:\n",
        "        # tap 기준으로 parsing\n",
        "        pieces = line.strip().split(\"\\t\")\n",
        "        # 리뷰와 정답\n",
        "        input_sequence,label = pieces[0].split(\" \"),pieces[1]\n",
        "        result = []\n",
        "        for words in input_sequence:\n",
        "            target_words = kom.pos(words)\n",
        "            if len(target_words) == 2 and target_words[1][1] not in ['NNP','NP','JK','JKG','JKI','JKM','JKC','JKO','JKQ']:\n",
        "                result.append(words)\n",
        "            elif len(target_words) == 1 and target_words[0][1] not in ['NNP','NP','JK','JKG','JKI','JKM','JKC','JKO','JKQ']:\n",
        "                result.append(words)\n",
        "        datas.append((result,label))\n",
        "\n",
        "    return datas\n",
        "\n",
        "\n",
        "def read_vocab_data(vocab_data_path):\n",
        "    term2idx, idx2term = {},{}\n",
        "\n",
        "    with open(vocab_data_path, \"r\", encoding=\"utf8\") as inFile:\n",
        "        lines = inFile.readlines()\n",
        "\n",
        "    for line in lines:\n",
        "        term = line.strip()\n",
        "        term2idx[term] = len(term2idx)\n",
        "        idx2term[term2idx[term]] = term\n",
        "\n",
        "    return term2idx, idx2term\n",
        "\n",
        "\n",
        "def convert_data2feature(datas, max_length, tokenizer, label2idx):\n",
        "    input_ids_features, label_id_features = [], []\n",
        "\n",
        "    for input_sequence, label in datas:\n",
        "\n",
        "        # CLS, SEP 토큰 추가\n",
        "        tokens = [tokenizer.cls_token]\n",
        "        tokens += input_sequence\n",
        "        tokens = tokens[:max_length - 1]\n",
        "        tokens += [tokenizer.sep_token]\n",
        "\n",
        "        # word piece들을 대응하는 index로 치환\n",
        "        input_ids = tokenizer.convert_tokens_to_ids(tokens)\n",
        "\n",
        "        # padding 생성\n",
        "        padding = [tokenizer._convert_token_to_id(tokenizer.pad_token)] * (max_length - len(input_ids))\n",
        "        input_ids += padding\n",
        "\n",
        "        label_id = label2idx[label]\n",
        "\n",
        "        # 변환한 데이터를 각 리스트에 저장\n",
        "        input_ids_features.append(input_ids)\n",
        "        label_id_features.append(label_id)\n",
        "\n",
        "    # 변환한 데이터를 Tensor 객체에 담아 반환\n",
        "    input_ids_features = torch.tensor(input_ids_features, dtype=torch.long)\n",
        "    label_id_features = torch.tensor(label_id_features, dtype=torch.long)\n",
        "\n",
        "    return input_ids_features, label_id_features"
      ],
      "execution_count": null,
      "outputs": []
    },
    {
      "cell_type": "markdown",
      "metadata": {
        "id": "urLIOIHT779c"
      },
      "source": [
        "<h1>BERT 모델 학습</h1>\n",
        "\n",
        "<pre>\n",
        "<b>1. read_data(file_path) 함수를 사용하여 학습 데이터 읽기</b>\n",
        "\n",
        "<b>2. read_vocab_data(vocab_data_path) 함수를 사용하여 어휘 딕셔너리 생성</b>\n",
        "\n",
        "<b>3. convert_data2feature(datas, max_length, tokenizer, label2idx) 함수를 사용하여 데이터 전처리</b>\n",
        "\n",
        "<b>4. BERT 모델 객체 선언 후 사전 학습 파일 불러옴</b>\n",
        "\n",
        "<b>5. epoch 마다 학습한 모델 파일 저장</b>\n",
        "</pre>"
      ]
    },
    {
      "cell_type": "code",
      "metadata": {
        "id": "rsYLc2YK8eNc"
      },
      "source": [
        "import torch\n",
        "from torch.utils.data import (DataLoader, TensorDataset, RandomSampler)\n",
        "import torch.optim as optim\n",
        "import numpy as np\n",
        "\n",
        "from transformers import BertConfig\n",
        "from tokenization_kobert import KoBertTokenizer\n",
        "\n",
        "\n",
        "def train(config):\n",
        "    # BERT config 객체 생성\n",
        "    bert_config = BertConfig.from_pretrained(pretrained_model_name_or_path=config[\"pretrained_model_name_or_path\"],\n",
        "                                             cache_dir=config[\"cache_dir_path\"])\n",
        "    setattr(bert_config, \"num_labels\", config[\"num_labels\"])\n",
        "\n",
        "    # BERT tokenizer 객체 생성\n",
        "    bert_tokenizer = KoBertTokenizer.from_pretrained(pretrained_model_name_or_path=config[\"pretrained_model_name_or_path\"],\n",
        "                                                     cache_dir=config[\"cache_dir_path\"])\n",
        "\n",
        "    # 라벨 딕셔너리 생성\n",
        "    label2idx, idx2label = read_vocab_data(vocab_data_path=config[\"label_vocab_data_path\"])\n",
        "\n",
        "    # 형태소 분석기\n",
        "    kom = Kkma()\n",
        "\n",
        "    # 학습 및 평가 데이터 읽기\n",
        "    train_datas = read_data(file_path=config[\"train_data_path\"],kom=kom)\n",
        "\n",
        "    # 입력 데이터 전처리\n",
        "    train_input_ids_features, train_label_id_features = convert_data2feature(datas=train_datas,\n",
        "                                                                             max_length=config[\"max_length\"],\n",
        "                                                                             tokenizer=bert_tokenizer,\n",
        "                                                                             label2idx=label2idx)\n",
        "\n",
        "    # 학습 데이터를 batch 단위로 추출하기 위한 DataLoader 객체 생성\n",
        "    train_dataset = TensorDataset(train_input_ids_features, train_label_id_features)\n",
        "    train_dataloader = DataLoader(dataset=train_dataset, batch_size=config[\"batch_size\"],\n",
        "                                  sampler=RandomSampler(train_dataset))\n",
        "\n",
        "    # 사전 학습된 BERT 모델 파일로부터 가중치 불러옴\n",
        "    model = SentimentClassifier.from_pretrained(pretrained_model_name_or_path=config[\"pretrained_model_name_or_path\"],\n",
        "                                                cache_dir=config[\"cache_dir_path\"], config=bert_config).cuda()\n",
        "\n",
        "    # loss를 계산하기 위한 함수\n",
        "    loss_func = nn.CrossEntropyLoss()\n",
        "\n",
        "    # 모델 학습을 위한 optimizer\n",
        "    optimizer = optim.Adam(model.parameters(), lr=2e-5)\n",
        "\n",
        "    for epoch in range(config[\"epoch\"]):\n",
        "        model.train()\n",
        "\n",
        "        total_loss = []\n",
        "        for batch in train_dataloader:\n",
        "            batch = tuple(t.cuda() for t in batch)\n",
        "            input_ids, label_id = batch\n",
        "\n",
        "            # 역전파 단계를 실행하기 전에 변화도를 0으로 변경\n",
        "            optimizer.zero_grad()\n",
        "\n",
        "            # 모델 예측 결과\n",
        "            hypothesis = model(input_ids)\n",
        "\n",
        "            # loss 계산\n",
        "            loss = loss_func(hypothesis, label_id)\n",
        "\n",
        "            # loss 값으로부터 모델 내부 각 매개변수에 대하여 gradient 계산\n",
        "            loss.backward()\n",
        "            # 모델 내부 각 매개변수 가중치 갱신\n",
        "            optimizer.step()\n",
        "\n",
        "            # batch 단위 loss 값 저장\n",
        "            total_loss.append(loss.data.item())\n",
        "\n",
        "        bert_config.save_pretrained(save_directory=config[\"output_dir_path\"])\n",
        "        model.save_pretrained(save_directory=config[\"output_dir_path\"])\n",
        "\n",
        "        print(\"Average loss : {}\".format(np.mean(total_loss)))"
      ],
      "execution_count": null,
      "outputs": []
    },
    {
      "cell_type": "markdown",
      "metadata": {
        "id": "20OC-TY8FIFj"
      },
      "source": [
        "<h1>BERT 모델 평가</h1>\n",
        "\n",
        "<pre>\n",
        "<b>1. read_data(file_path) 함수를 사용하여 평가 데이터 읽기</b>\n",
        "\n",
        "<b>2. read_vocab_data(vocab_data_path) 함수를 사용하여 어휘 딕셔너리 생성</b>\n",
        "\n",
        "<b>3. convert_data2feature(datas, max_length, tokenizer, label2idx) 함수를 사용하여 데이터 전처리</b>\n",
        "\n",
        "<b>4. BERT 모델 객체 선언 후 기존에 학습한 모델 파일 불러옴</b>\n",
        "\n",
        "<b>5. 학습한 BERT 모델 평가</b>\n",
        "</pre>"
      ]
    },
    {
      "cell_type": "code",
      "source": [
        "import torch\n",
        "from torch.utils.data import (DataLoader, TensorDataset, SequentialSampler)\n",
        "\n",
        "from transformers import BertConfig\n",
        "from tokenization_kobert import KoBertTokenizer\n",
        "from sklearn.metrics import accuracy_score\n",
        "\n",
        "def test(config):\n",
        "    # BERT config 객체 생성\n",
        "    bert_config = BertConfig.from_pretrained(pretrained_model_name_or_path=config[\"output_dir_path\"],\n",
        "                                             cache_dir=config[\"cache_dir_path\"])\n",
        "\n",
        "    # BERT tokenizer 객체 생성 (기존 BERT tokenizer 그대로 사용)\n",
        "    bert_tokenizer = KoBertTokenizer.from_pretrained(pretrained_model_name_or_path=config[\"pretrained_model_name_or_path\"],\n",
        "                                                     cache_dir=config[\"cache_dir_path\"])\n",
        "\n",
        "    # 라벨 딕셔너리 생성\n",
        "    label2idx, idx2label = read_vocab_data(vocab_data_path=config[\"label_vocab_data_path\"])\n",
        "    \n",
        "    # 형태소 분석기\n",
        "    kom = Kkma()\n",
        "\n",
        "    # 평가 데이터 읽기\n",
        "    test_datas = read_data(file_path=config[\"test_data_path\"],kom=kom)\n",
        "    test_datas = test_datas[:100]\n",
        "\n",
        "    # 입력 데이터 전처리\n",
        "    test_input_ids_features, test_label_id_features = convert_data2feature(datas=test_datas,\n",
        "                                                                           max_length=config[\"max_length\"],\n",
        "                                                                           tokenizer=bert_tokenizer,\n",
        "                                                                           label2idx=label2idx)\n",
        "\n",
        "    # 평가 데이터를 batch 단위로 추출하기 위한 DataLoader 객체 생성\n",
        "    test_dataset = TensorDataset(test_input_ids_features, test_label_id_features)\n",
        "    test_dataloader = DataLoader(dataset=test_dataset, batch_size=config[\"batch_size\"],\n",
        "                                 sampler=SequentialSampler(test_dataset))\n",
        "\n",
        "    # 학습한 모델 파일로부터 가중치 불러옴\n",
        "    model = SentimentClassifier.from_pretrained(pretrained_model_name_or_path=config[\"output_dir_path\"],\n",
        "                                                cache_dir=config[\"cache_dir_path\"], config=bert_config).cuda()\n",
        "\n",
        "    model.eval()\n",
        "    total_hypothesis = []\n",
        "    total_label_id = []\n",
        "    pred = []\n",
        "    target = []\n",
        "    for batch in test_dataloader:\n",
        "        batch = tuple(t.cuda() for t in batch)\n",
        "        input_ids, label_id = batch\n",
        "\n",
        "        with torch.no_grad():\n",
        "            # 모델 예측 결과\n",
        "            hypothesis = model(input_ids)\n",
        "            # 모델의 출력값에 softmax와 argmax 함수를 적용\n",
        "            hypothesis = torch.argmax(torch.softmax(hypothesis, dim=-1), dim=-1)\n",
        "\n",
        "        # Tensor를 리스트로 변경\n",
        "        hypothesis = hypothesis.cpu().detach().numpy().tolist()\n",
        "        label_id = label_id.cpu().detach().numpy().tolist()\n",
        "\n",
        "        for index in range(len(input_ids)):\n",
        "            input_tokens = bert_tokenizer.convert_ids_to_tokens(input_ids[index])\n",
        "            input_sequence = bert_tokenizer.convert_tokens_to_string(input_tokens[1:input_tokens.index(bert_tokenizer.sep_token)])\n",
        "            predict = idx2label[hypothesis[index]]\n",
        "            correct = idx2label[label_id[index]]\n",
        "\n",
        "            # 정답과 예측값 추가\n",
        "            pred.append(int(label2idx[predict]))\n",
        "            target.append(int(label2idx[correct]))\n",
        "    print(f'accuracy : {accuracy_score(y_pred=pred,y_true=target)}')\n"
      ],
      "metadata": {
        "id": "geme5r_us0Oy"
      },
      "execution_count": null,
      "outputs": []
    },
    {
      "cell_type": "markdown",
      "source": [
        "### 성능 평가\n",
        "\n",
        "저는 형태소 분석기를통해 고유명사와 조사들을 제거하였습니다. </br>\n",
        "형태소 분석기로는 Kkma를 이용해서 전처리 해주었습니다.</br>\n",
        "- 원래 모델 accuracy = 80프로</br>\n",
        "- 저의 모델 accuracy = 84프로"
      ],
      "metadata": {
        "id": "J99VygFipIQ2"
      }
    },
    {
      "cell_type": "code",
      "metadata": {
        "id": "GbtyjwvtFxf7",
        "colab": {
          "base_uri": "https://localhost:8080/"
        },
        "outputId": "fafb3fb5-092c-479f-e4e9-e5bb4977d3cc"
      },
      "source": [
        "import os\n",
        "\n",
        "\n",
        "if(__name__==\"__main__\"):\n",
        "    output_dir = os.path.join(root_dir, \"output\")\n",
        "    cache_dir = os.path.join(root_dir, \"cache\")\n",
        "    \n",
        "    if not os.path.exists(output_dir):\n",
        "        os.makedirs(output_dir)\n",
        "    if not os.path.exists(cache_dir):\n",
        "        os.makedirs(cache_dir)\n",
        "\n",
        "\n",
        "    config = {\"mode\": \"test\",\n",
        "              \"train_data_path\": os.path.join(root_dir, \"train_datas_wordpiece.txt\"),\n",
        "              \"test_data_path\": os.path.join(root_dir, \"test_datas_wordpiece.txt\"),\n",
        "              \"output_dir_path\":output_dir,\n",
        "              \"cache_dir_path\": cache_dir,\n",
        "              \"pretrained_model_name_or_path\": \"monologg/kobert\",\n",
        "              \"label_vocab_data_path\": os.path.join(root_dir, \"label_vocab.txt\"),\n",
        "              \"num_labels\": 2,\n",
        "              \"max_length\": 142,\n",
        "              \"epoch\":10,\n",
        "              \"batch_size\":64\n",
        "              }\n",
        "\n",
        "    if(config[\"mode\"] == \"train\"):\n",
        "        train(config)\n",
        "    else:\n",
        "        test(config)"
      ],
      "execution_count": null,
      "outputs": [
        {
          "output_type": "stream",
          "name": "stderr",
          "text": [
            "The tokenizer class you load from this checkpoint is not the same type as the class this function is called from. It may result in unexpected tokenization. \n",
            "The tokenizer class you load from this checkpoint is 'BertTokenizer'. \n",
            "The class this function is called from is 'KoBertTokenizer'.\n"
          ]
        },
        {
          "output_type": "stream",
          "name": "stdout",
          "text": [
            "accuracy : 0.84\n"
          ]
        }
      ]
    },
    {
      "cell_type": "code",
      "metadata": {
        "id": "bk-3ADInQDHZ"
      },
      "source": [],
      "execution_count": null,
      "outputs": []
    }
  ]
}