{
  "cells": [
    {
      "cell_type": "markdown",
      "metadata": {
        "id": "view-in-github",
        "colab_type": "text"
      },
      "source": [
        "<a href=\"https://colab.research.google.com/github/qqq3964/Konkuk_NLP_Practice/blob/main/week_4_201812822%EA%B9%80%ED%83%9C%EC%99%84.ipynb\" target=\"_parent\"><img src=\"https://colab.research.google.com/assets/colab-badge.svg\" alt=\"Open In Colab\"/></a>"
      ]
    },
    {
      "cell_type": "code",
      "execution_count": null,
      "metadata": {
        "id": "CvUQkapWy9el"
      },
      "outputs": [],
      "source": [
        "\n",
        "# 자소 분리 및 결합 코드\n",
        "cho_list = ['ㄱ', 'ㄲ', 'ㄴ', 'ㄷ', 'ㄸ', 'ㄹ', 'ㅁ', 'ㅂ', 'ㅃ', 'ㅅ', 'ㅆ', 'ㅇ', 'ㅈ', 'ㅉ', 'ㅊ', 'ㅋ', 'ㅌ', 'ㅍ', 'ㅎ']\n",
        "jung_list = ['ㅏ', 'ㅐ', 'ㅑ', 'ㅒ', 'ㅓ', 'ㅔ', 'ㅕ', 'ㅖ', 'ㅗ', 'ㅘ', 'ㅙ', 'ㅚ', 'ㅛ', 'ㅜ', 'ㅝ', 'ㅞ', 'ㅟ', 'ㅠ', 'ㅡ', 'ㅢ',\n",
        "             'ㅣ']\n",
        "jong_list = ['', 'ㄱ', 'ㄲ', 'ㄳ', 'ㄴ', 'ㄵ', 'ㄶ', 'ㄷ', 'ㄹ', 'ㄺ', 'ㄻ', 'ㄼ', 'ㄽ', 'ㄾ', 'ㄿ', 'ㅀ', 'ㅁ', 'ㅂ', 'ㅄ', 'ㅅ',\n",
        "             'ㅆ', 'ㅇ', 'ㅈ', 'ㅊ', 'ㅋ', 'ㅌ', 'ㅍ', 'ㅎ']\n",
        "\n",
        "def jaso_split(korean_word):\n",
        "    result = []\n",
        "    for c in list(korean_word.strip()):\n",
        "        # 현재 문자가 한글일 경우\n",
        "        if '가' <= c <= '힣':\n",
        "            chosung = (ord(c) - ord('가')) // 588\n",
        "            jungsung = ((ord(c) - ord('가')) - (588 * chosung)) // 28\n",
        "            jongsung = (ord(c) - ord('가')) - (588 * chosung) - (28 * jungsung)\n",
        "            result.append((cho_list[chosung],'cho'))\n",
        "            result.append((jung_list[jungsung],'jung'))\n",
        "            if jongsung:\n",
        "                result.append((jong_list[jongsung],'jong'))\n",
        "        # 현재 문자가 한글이 아닐 경우\n",
        "        else:\n",
        "            result.append(c)\n",
        "\n",
        "    return result\n",
        "\n",
        "def jaso_combine(chosung, jungsung, jongsung=''):\n",
        "    if chosung and jungsung:\n",
        "        result = chr((28 * int(jung_list.index(jungsung))) + int(jong_list.index(jongsung)) + (588 * cho_list.index(chosung)) + ord('가'))\n",
        "    else:\n",
        "        result = ''.join([chosung, jungsung, jongsung])\n",
        "    return result"
      ]
    },
    {
      "cell_type": "code",
      "execution_count": null,
      "metadata": {
        "id": "tmwsRfAGzDdV"
      },
      "outputs": [],
      "source": [
        "def tabular_parsing(jaso_list, morpheme, grammar):\n",
        "    '''\n",
        "    :param jaso_list: 자소 문자 리스트\n",
        "    :param morpheme: 형태소 사전\n",
        "    :param grammar: 품사 태그 접속 사전\n",
        "    :return: 형태소 분석 결과 리스트\n",
        "    '''\n",
        "\n",
        "    # map으로 저장\n",
        "    pre_jung = ''\n",
        "    pre_jong = '' \n",
        "    map = []\n",
        "    blue_box = []\n",
        "    for unit_list in jaso_list[::-1]:\n",
        "      unit,jaso = unit_list[0],unit_list[1]\n",
        "      temp = []\n",
        "      if jaso == 'jung':\n",
        "        pre_jung = unit\n",
        "        blue_box.append([])\n",
        "        continue\n",
        "      elif jaso == 'jong':\n",
        "        temp.append(unit)\n",
        "        pre_jong = unit\n",
        "      else:\n",
        "        temp.append(unit)\n",
        "        if len(pre_jong) != 0:\n",
        "          # 3가지 조건 cho,jung,jong이 모두있음\n",
        "          temp.append(jaso_combine(unit,pre_jung))\n",
        "          temp.append(jaso_combine(unit,pre_jung,pre_jong))\n",
        "          pre_jong = ''\n",
        "        elif len(pre_jong) == 0:\n",
        "          temp.append(jaso_combine(unit,pre_jung))\n",
        "        pre_jung = ''\n",
        "      # print(f'현재 list {temp} 이전 map들 {map}')\n",
        "      \n",
        "      now_pos = -1\n",
        "\n",
        "      # 사전 조사\n",
        "      now_blue_box = []\n",
        "      for idx,now_unit in enumerate(temp):\n",
        "        if morpheme.get(now_unit):\n",
        "          for i in morpheme.get(now_unit):\n",
        "            # 사전검색이 성공했으므로 이를 통해 접속정보를 확인\n",
        "            if abs(-idx+now_pos) > len(blue_box):\n",
        "              # 마지막 정보 blue_box에서\n",
        "              now_blue_box.append(now_unit+'/'+i)\n",
        "              continue\n",
        "            if len(blue_box[-idx+now_pos]) == 0:\n",
        "              continue\n",
        "            for blue_box_list in blue_box[-idx+now_pos]:\n",
        "              blue_word,blue_morph = blue_box_list.split('+')[0].split('/')\n",
        "              num1_check = i+'+'+blue_morph\n",
        "              if num1_check in grammar:\n",
        "                # 접속 검색 성공해서 여기로들어옴\n",
        "                now_blue_box.append(now_unit+'/'+i+'+'+blue_box_list)\n",
        "       \n",
        "      # 이제 backtracking을 통한 전에 리스트들과 확인\n",
        "      now_pos = -len(temp)-1\n",
        "      now_unit = temp[-1]\n",
        "\n",
        "      pre_map = []      \n",
        "      for idx,check_unit in enumerate(map):\n",
        "        pre_map.append(now_unit+check_unit)\n",
        "        if morpheme.get(now_unit+check_unit):\n",
        "          for i in morpheme.get(now_unit+check_unit):\n",
        "            # 사전검색이 성공했으므로 이를 통해 접속정보를 확인\n",
        "            if abs(-idx+now_pos) > len(blue_box):\n",
        "              # 마지막 정보 blue_box에서\n",
        "              now_blue_box.append(now_unit+check_unit+'/'+i)\n",
        "              continue\n",
        "            if len(blue_box[-idx+now_pos]) == 0:\n",
        "              continue\n",
        "            for blue_box_list in blue_box[-idx+now_pos]:\n",
        "              blue_word,blue_morph = blue_box_list.split('+')[0].split('/')\n",
        "              num1_check = i+'+'+blue_morph\n",
        "              if num1_check in grammar:\n",
        "                # 접속 검색 성공해서 여기로들어옴\n",
        "                now_blue_box.append(now_unit+check_unit+'/'+i+'+'+blue_box_list)\n",
        "\n",
        "      blue_box.append(now_blue_box)\n",
        "      if jaso == 'jong':\n",
        "        temp.pop()\n",
        "      else:\n",
        "        map = temp+pre_map\n",
        "\n",
        "    return(blue_box[-1])"
      ]
    },
    {
      "cell_type": "code",
      "execution_count": null,
      "metadata": {
        "id": "RNqQxoVEzG1D",
        "outputId": "ddac50f7-60a8-4874-9b06-ed3e28fdb388",
        "colab": {
          "base_uri": "https://localhost:8080/"
        }
      },
      "outputs": [
        {
          "output_type": "stream",
          "name": "stdout",
          "text": [
            "[('ㄱ', 'cho'), ('ㅓ', 'jung'), ('ㄴ', 'jong'), ('ㄱ', 'cho'), ('ㅜ', 'jung'), ('ㄱ', 'jong'), ('ㄷ', 'cho'), ('ㅐ', 'jung'), ('ㄱ', 'cho'), ('ㅏ', 'jung')]\n",
            "['건국/NNG+대가/NNG', '건국대/NNP+가/NNG', '건국대/NNP+가/JKS']\n"
          ]
        }
      ],
      "source": [
        "if __name__ == '__main__':\n",
        "    morpheme = {\"건국\": [\"NNG\"], \"국\": [\"NNG\"], \"대\": [\"NNB\"], \"대가\": [\"NNG\"], \"건국대\": [\"NNP\"], \"가\": [\"NNG\", \"JKS\"]}\n",
        "    grammar = [\"NNG+NNG\", \"NNB+JKS\", \"NNG+JKS\", \"NNP+NNG\", \"NNP+JKS\"]\n",
        "\n",
        "    # input_text = input(\"Input Sentence : \")\n",
        "    input_text = \"건국대가\"\n",
        "    jaso_list = jaso_split(input_text)\n",
        "    print(jaso_list)\n",
        "    print(tabular_parsing(jaso_list, morpheme, grammar))"
      ]
    },
    {
      "cell_type": "code",
      "source": [
        "if __name__ == '__main__':\n",
        "    morpheme = {\"감기\": [\"명사\"], \"감\": [\"동사\"], \"가\": [\"동사\"], \"ㅁ\": [\"명사형전성어미\"], \"기\": [\"명사형전성어미\"], \"는\": [\"보조사\"]}\n",
        "    grammar = [\"명사+보조사\", \"동사+명사형전성어미\", \"명사형전성어미+명사형전성어미\", \"명사형전성어미+보조사\"]\n",
        "\n",
        "    # input_text = input(\"Input Sentence : \")\n",
        "    input_text = \"감기는\"\n",
        "    jaso_list = jaso_split(input_text)\n",
        "    print(jaso_list)\n",
        "    print(tabular_parsing(jaso_list, morpheme, grammar))"
      ],
      "metadata": {
        "colab": {
          "base_uri": "https://localhost:8080/"
        },
        "id": "fJ0NByoFe7gU",
        "outputId": "804ebedf-e282-415a-bf27-20d65fc1d8b2"
      },
      "execution_count": null,
      "outputs": [
        {
          "output_type": "stream",
          "name": "stdout",
          "text": [
            "[('ㄱ', 'cho'), ('ㅏ', 'jung'), ('ㅁ', 'jong'), ('ㄱ', 'cho'), ('ㅣ', 'jung'), ('ㄴ', 'cho'), ('ㅡ', 'jung'), ('ㄴ', 'jong')]\n",
            "['가/동사+ㅁ/명사형전성어미+기/명사형전성어미+는/보조사', '감/동사+기/명사형전성어미+는/보조사', '감기/명사+는/보조사']\n"
          ]
        }
      ]
    },
    {
      "cell_type": "code",
      "source": [],
      "metadata": {
        "id": "PoZg7Ue6iRQZ"
      },
      "execution_count": null,
      "outputs": []
    }
  ],
  "metadata": {
    "colab": {
      "provenance": [],
      "include_colab_link": true
    },
    "kernelspec": {
      "name": "python3",
      "display_name": "Python 3"
    },
    "language_info": {
      "name": "python"
    }
  },
  "nbformat": 4,
  "nbformat_minor": 0
}