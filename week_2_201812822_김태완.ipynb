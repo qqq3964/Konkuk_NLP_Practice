{
  "nbformat": 4,
  "nbformat_minor": 0,
  "metadata": {
    "colab": {
      "provenance": [],
      "mount_file_id": "1tKEBckGclNeRPIORW7eJJzAuTHpFd-fF",
      "authorship_tag": "ABX9TyO85c8Ge2magLuS6Tt53sfP",
      "include_colab_link": true
    },
    "kernelspec": {
      "name": "python3",
      "display_name": "Python 3"
    },
    "language_info": {
      "name": "python"
    },
    "accelerator": "GPU",
    "gpuClass": "standard"
  },
  "cells": [
    {
      "cell_type": "markdown",
      "metadata": {
        "id": "view-in-github",
        "colab_type": "text"
      },
      "source": [
        "<a href=\"https://colab.research.google.com/github/qqq3964/Konkuk_NLP_Practice/blob/main/week_2_201812822_%EA%B9%80%ED%83%9C%EC%99%84.ipynb\" target=\"_parent\"><img src=\"https://colab.research.google.com/assets/colab-badge.svg\" alt=\"Open In Colab\"/></a>"
      ]
    },
    {
      "cell_type": "code",
      "source": [
        "%cd /content/drive/MyDrive/건국대NLP"
      ],
      "metadata": {
        "colab": {
          "base_uri": "https://localhost:8080/"
        },
        "id": "HVxeruGH0vOC",
        "outputId": "c91294e1-3f66-4bb7-a296-548660291772"
      },
      "execution_count": null,
      "outputs": [
        {
          "output_type": "stream",
          "name": "stdout",
          "text": [
            "/content/drive/MyDrive/건국대NLP\n"
          ]
        }
      ]
    },
    {
      "cell_type": "code",
      "source": [
        "!pip install gensim"
      ],
      "metadata": {
        "colab": {
          "base_uri": "https://localhost:8080/"
        },
        "id": "R-AIF_A22jVM",
        "outputId": "8bf7b46c-ff96-44b8-d4ab-00afe7211708"
      },
      "execution_count": null,
      "outputs": [
        {
          "output_type": "stream",
          "name": "stdout",
          "text": [
            "Looking in indexes: https://pypi.org/simple, https://us-python.pkg.dev/colab-wheels/public/simple/\n",
            "Requirement already satisfied: gensim in /usr/local/lib/python3.9/dist-packages (3.6.0)\n",
            "Requirement already satisfied: six>=1.5.0 in /usr/local/lib/python3.9/dist-packages (from gensim) (1.15.0)\n",
            "Requirement already satisfied: smart-open>=1.2.1 in /usr/local/lib/python3.9/dist-packages (from gensim) (6.3.0)\n",
            "Requirement already satisfied: numpy>=1.11.3 in /usr/local/lib/python3.9/dist-packages (from gensim) (1.22.4)\n",
            "Requirement already satisfied: scipy>=0.18.1 in /usr/local/lib/python3.9/dist-packages (from gensim) (1.10.1)\n"
          ]
        }
      ]
    },
    {
      "cell_type": "code",
      "source": [
        "from gensim.models import Word2Vec\n",
        "from gensim.models import KeyedVectors\n",
        "import torch"
      ],
      "metadata": {
        "id": "t677_QWAzZ-X"
      },
      "execution_count": null,
      "outputs": []
    },
    {
      "cell_type": "code",
      "source": [
        "loaded_model = Word2Vec.load('ko.bin')"
      ],
      "metadata": {
        "id": "QHBoYE8C0ySB"
      },
      "execution_count": null,
      "outputs": []
    },
    {
      "cell_type": "code",
      "source": [
        "print(loaded_model.wv.most_similar(positive=['한국','파리'],negative=['서울'])[:3])\n",
        "print(loaded_model.wv.most_similar(positive=['컴퓨터','공학','인문학'])[:3])\n",
        "print(loaded_model.wv.most_similar(positive=['사랑','이별'])[:3])\n",
        "print(loaded_model.wv.most_similar(positive=['충청북도','강원도'],negative=['청주'])[:3])\n",
        "print(loaded_model.wv.most_similar(positive=['인간'],negative=['사랑'])[:3])\n",
        "print(loaded_model.wv.most_similar(positive=['미술','음악'],negative=['물감'])[:3])"
      ],
      "metadata": {
        "colab": {
          "base_uri": "https://localhost:8080/"
        },
        "id": "KjnMI2On3kIq",
        "outputId": "1e0081c6-4258-4f5b-e8d5-cd47c80fb5b1"
      },
      "execution_count": null,
      "outputs": [
        {
          "output_type": "stream",
          "name": "stdout",
          "text": [
            "[('프랑스', 0.5448222160339355), ('영국', 0.4882664084434509), ('미국', 0.4670472741127014)]\n",
            "[('인공지능', 0.6984349489212036), ('전산학', 0.6849942803382874), ('사회학', 0.6683807373046875)]\n",
            "[('슬픔', 0.7795703411102295), ('추억', 0.7069746255874634), ('절망', 0.6897162199020386)]\n",
            "[('평창군', 0.6565779447555542), ('화천군', 0.6379052996635437), ('경상북도', 0.6310842633247375)]\n",
            "[('내재적', 0.49942755699157715), ('유기체', 0.4942871928215027), ('구조적', 0.47677475214004517)]\n",
            "[('예술', 0.6641802787780762), ('성악', 0.6235669255256653), ('연극', 0.6229665279388428)]\n"
          ]
        }
      ]
    }
  ]
}